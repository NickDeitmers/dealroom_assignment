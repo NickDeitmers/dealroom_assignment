{
 "cells": [
  {
   "cell_type": "markdown",
   "metadata": {},
   "source": [
    "# PART 1: CLASSIFICATION OF ENTITIES"
   ]
  },
  {
   "cell_type": "code",
   "execution_count": 134,
   "metadata": {},
   "outputs": [],
   "source": [
    "# Import libraries\n",
    "import pandas as pd\n",
    "import numpy as np\n",
    "import re"
   ]
  },
  {
   "cell_type": "code",
   "execution_count": 267,
   "metadata": {},
   "outputs": [],
   "source": [
    "# Store the dataframe in a variable\n",
    "companies_original = pd.read_excel('Data_Science_Internship_Assignment.xlsx', sheet_name = 'Data')\n",
    "\n",
    "# Create a copy, we will work with the copy\n",
    "companies = companies_original.copy()"
   ]
  },
  {
   "cell_type": "code",
   "execution_count": 268,
   "metadata": {},
   "outputs": [
    {
     "data": {
      "text/html": [
       "<div>\n",
       "<style scoped>\n",
       "    .dataframe tbody tr th:only-of-type {\n",
       "        vertical-align: middle;\n",
       "    }\n",
       "\n",
       "    .dataframe tbody tr th {\n",
       "        vertical-align: top;\n",
       "    }\n",
       "\n",
       "    .dataframe thead th {\n",
       "        text-align: right;\n",
       "    }\n",
       "</style>\n",
       "<table border=\"1\" class=\"dataframe\">\n",
       "  <thead>\n",
       "    <tr style=\"text-align: right;\">\n",
       "      <th></th>\n",
       "      <th>NAME</th>\n",
       "      <th>WEBSITE</th>\n",
       "      <th>TAGLINE</th>\n",
       "      <th>HQ REGION</th>\n",
       "      <th>HQ COUNTRY</th>\n",
       "      <th>HQ CITY</th>\n",
       "      <th>TAGS</th>\n",
       "      <th>LAUNCH DATE</th>\n",
       "      <th>GROWTH STAGE</th>\n",
       "      <th>LINKEDIN</th>\n",
       "      <th>TYPE</th>\n",
       "    </tr>\n",
       "  </thead>\n",
       "  <tbody>\n",
       "    <tr>\n",
       "      <th>0</th>\n",
       "      <td>63336</td>\n",
       "      <td>http://63336.com</td>\n",
       "      <td>Ai-enabled q&amp;a service that answers to various...</td>\n",
       "      <td>Europe</td>\n",
       "      <td>United Kingdom</td>\n",
       "      <td>London</td>\n",
       "      <td>mobile</td>\n",
       "      <td>2002, September</td>\n",
       "      <td>late growth stage</td>\n",
       "      <td>NaN</td>\n",
       "      <td>NaN</td>\n",
       "    </tr>\n",
       "    <tr>\n",
       "      <th>1</th>\n",
       "      <td>@Futsal</td>\n",
       "      <td>http://futsaluk.net</td>\n",
       "      <td>Educational courses through the medium of spor...</td>\n",
       "      <td>Europe</td>\n",
       "      <td>United Kingdom</td>\n",
       "      <td>Birmingham</td>\n",
       "      <td>NaN</td>\n",
       "      <td>2008</td>\n",
       "      <td>early growth stage</td>\n",
       "      <td>https://www.linkedin.com/company/-futsal-group...</td>\n",
       "      <td>NaN</td>\n",
       "    </tr>\n",
       "    <tr>\n",
       "      <th>2</th>\n",
       "      <td>#5 Magazine</td>\n",
       "      <td>http://5mag.co</td>\n",
       "      <td>Multi-platform digital lifestyle magazines abo...</td>\n",
       "      <td>Europe</td>\n",
       "      <td>United Kingdom</td>\n",
       "      <td>London</td>\n",
       "      <td>publishing;branding;media;platform;entertainment</td>\n",
       "      <td>2007</td>\n",
       "      <td>NaN</td>\n",
       "      <td>NaN</td>\n",
       "      <td>NaN</td>\n",
       "    </tr>\n",
       "    <tr>\n",
       "      <th>3</th>\n",
       "      <td>03Numbers</td>\n",
       "      <td>http://planet-numbers.co.uk/numbers/0333</td>\n",
       "      <td>Planet Numbers are the leading provider of 03 ...</td>\n",
       "      <td>Europe</td>\n",
       "      <td>United Kingdom</td>\n",
       "      <td>NaN</td>\n",
       "      <td>NaN</td>\n",
       "      <td>2008, September</td>\n",
       "      <td>early growth stage</td>\n",
       "      <td>http://www.linkedin.com/company/planet-numbers</td>\n",
       "      <td>NaN</td>\n",
       "    </tr>\n",
       "    <tr>\n",
       "      <th>4</th>\n",
       "      <td>077football News &amp; Media</td>\n",
       "      <td>http://077football.com</td>\n",
       "      <td>077Football - the deep-rooted, hyperlocal foot...</td>\n",
       "      <td>Europe</td>\n",
       "      <td>United Kingdom</td>\n",
       "      <td>Cambridge</td>\n",
       "      <td>sport;advertising;football;network;game develo...</td>\n",
       "      <td>2009</td>\n",
       "      <td>late growth stage</td>\n",
       "      <td>https://www.linkedin.com/company/077football-n...</td>\n",
       "      <td>NaN</td>\n",
       "    </tr>\n",
       "  </tbody>\n",
       "</table>\n",
       "</div>"
      ],
      "text/plain": [
       "                       NAME                                   WEBSITE  \\\n",
       "0                     63336                          http://63336.com   \n",
       "1                   @Futsal                       http://futsaluk.net   \n",
       "2               #5 Magazine                            http://5mag.co   \n",
       "3                 03Numbers  http://planet-numbers.co.uk/numbers/0333   \n",
       "4  077football News & Media                    http://077football.com   \n",
       "\n",
       "                                             TAGLINE HQ REGION  \\\n",
       "0  Ai-enabled q&a service that answers to various...    Europe   \n",
       "1  Educational courses through the medium of spor...    Europe   \n",
       "2  Multi-platform digital lifestyle magazines abo...    Europe   \n",
       "3  Planet Numbers are the leading provider of 03 ...    Europe   \n",
       "4  077Football - the deep-rooted, hyperlocal foot...    Europe   \n",
       "\n",
       "       HQ COUNTRY     HQ CITY  \\\n",
       "0  United Kingdom      London   \n",
       "1  United Kingdom  Birmingham   \n",
       "2  United Kingdom      London   \n",
       "3  United Kingdom         NaN   \n",
       "4  United Kingdom   Cambridge   \n",
       "\n",
       "                                                TAGS      LAUNCH DATE  \\\n",
       "0                                             mobile  2002, September   \n",
       "1                                                NaN             2008   \n",
       "2   publishing;branding;media;platform;entertainment             2007   \n",
       "3                                                NaN  2008, September   \n",
       "4  sport;advertising;football;network;game develo...             2009   \n",
       "\n",
       "         GROWTH STAGE                                           LINKEDIN  TYPE  \n",
       "0   late growth stage                                                NaN   NaN  \n",
       "1  early growth stage  https://www.linkedin.com/company/-futsal-group...   NaN  \n",
       "2                 NaN                                                NaN   NaN  \n",
       "3  early growth stage     http://www.linkedin.com/company/planet-numbers   NaN  \n",
       "4   late growth stage  https://www.linkedin.com/company/077football-n...   NaN  "
      ]
     },
     "execution_count": 268,
     "metadata": {},
     "output_type": "execute_result"
    }
   ],
   "source": [
    "# Check how the dataframe looks like\n",
    "companies.head(5)"
   ]
  },
  {
   "cell_type": "code",
   "execution_count": 269,
   "metadata": {},
   "outputs": [
    {
     "data": {
      "text/plain": [
       "NAME                0\n",
       "WEBSITE             0\n",
       "TAGLINE           129\n",
       "HQ REGION           0\n",
       "HQ COUNTRY          0\n",
       "HQ CITY           674\n",
       "TAGS             1989\n",
       "LAUNCH DATE         0\n",
       "GROWTH STAGE     2998\n",
       "LINKEDIN         2986\n",
       "TYPE            11582\n",
       "dtype: int64"
      ]
     },
     "execution_count": 269,
     "metadata": {},
     "output_type": "execute_result"
    }
   ],
   "source": [
    "# Check for missing values\n",
    "companies.isna().sum()"
   ]
  },
  {
   "cell_type": "markdown",
   "metadata": {},
   "source": [
    "# Clean years column"
   ]
  },
  {
   "cell_type": "code",
   "execution_count": 270,
   "metadata": {},
   "outputs": [],
   "source": [
    "# Convert every value in LAUNCH DATE to only numbers\n",
    "years = []\n",
    "for date in companies['LAUNCH DATE']:\n",
    "    year = int(re.sub(r'\\D', '', str(date)))\n",
    "    years.append(year)\n",
    "\n",
    "companies['LAUNCH DATE'] = years"
   ]
  },
  {
   "cell_type": "markdown",
   "metadata": {},
   "source": [
    "# Unclassified companies"
   ]
  },
  {
   "cell_type": "code",
   "execution_count": 271,
   "metadata": {},
   "outputs": [],
   "source": [
    "# All companies without a tagline.\n",
    "unclassified_df = companies[companies['TAGLINE'].isna()]\n",
    "\n",
    "# Give the selected companies a tag\n",
    "companies.loc[unclassified_df.index, 'TYPE'] = 'unclassified'"
   ]
  },
  {
   "cell_type": "markdown",
   "metadata": {},
   "source": [
    "# Schools and Universities"
   ]
  },
  {
   "cell_type": "code",
   "execution_count": 272,
   "metadata": {},
   "outputs": [],
   "source": [
    "# Empty list\n",
    "schools = []\n",
    "\n",
    "# Find all schools\n",
    "for name in companies['NAME']:\n",
    "    x = re.findall(r'^.*School.*$', str(name))\n",
    "    if x != []:\n",
    "        y = str(x[0]).split()\n",
    "        if 'Computing' in y:\n",
    "            continue\n",
    "        elif 'Holding' in y:\n",
    "            continue\n",
    "        elif 'Interactive' in y:\n",
    "            continue\n",
    "        elif 'Driving' in y:\n",
    "            continue\n",
    "        elif 'Radio' in y:\n",
    "            continue\n",
    "        else:\n",
    "            schools.append(x[0])"
   ]
  },
  {
   "cell_type": "code",
   "execution_count": 273,
   "metadata": {},
   "outputs": [],
   "source": [
    "# All schools in a dataframe\n",
    "schools_df = companies[companies['NAME'].isin(schools)]\n",
    "\n",
    "# Give the selected companies a tag\n",
    "companies.loc[schools_df.index, 'TYPE'] = 'university/school'"
   ]
  },
  {
   "cell_type": "markdown",
   "metadata": {},
   "source": [
    "# Find non-profit organisations"
   ]
  },
  {
   "cell_type": "code",
   "execution_count": 274,
   "metadata": {},
   "outputs": [],
   "source": [
    "# Empty lists\n",
    "npo = []\n",
    "charity = []\n",
    "foundation = []\n",
    "\n",
    "# For loops to find non-profit organisations\n",
    "for tagline in companies['TAGLINE']:\n",
    "    x = re.findall(r'^.*no.*profit[^a].*$', str(tagline).lower())\n",
    "    if x != []:\n",
    "        y = str(x[0]).split()\n",
    "        if 'solution' in y:\n",
    "            continue\n",
    "        else:      \n",
    "            npo.append(x[0])\n",
    "\n",
    "for tagline in companies['TAGLINE']:\n",
    "    x = re.findall(r'^.*charity[^c].*$', str(tagline).lower())\n",
    "    if x != []:\n",
    "        y = str(x[0]).split()\n",
    "        if 'computing' in y:\n",
    "            continue\n",
    "        elif '20+' in y:\n",
    "            continue\n",
    "        else:        \n",
    "            charity.append(x[0])\n",
    "                     \n",
    "for tagline in companies['TAGLINE']:\n",
    "    x = re.findall(r'^.*\\sfoundation\\s.*$', str(tagline).lower())\n",
    "    if x != []:\n",
    "        y = str(x[0]).split()\n",
    "        if 'technical' in y:\n",
    "            continue\n",
    "        elif 'architects,' in y:\n",
    "            continue\n",
    "        elif 'software' in y:\n",
    "            continue\n",
    "        else:     \n",
    "            foundation.append(x[0])\n",
    "\n",
    "# Create a set in order to remove duplicates\n",
    "non_profit = set(npo + charity + foundation)\n",
    "\n",
    "# Store it in a list again\n",
    "non_profit = list(non_profit)"
   ]
  },
  {
   "cell_type": "code",
   "execution_count": 275,
   "metadata": {},
   "outputs": [],
   "source": [
    "# Give the selected companies a tag\n",
    "non_profit_df = companies\n",
    "non_profit_df['TAGLINE'] = companies['TAGLINE'].map(lambda x: str(x).lower())\n",
    "non_profit_df = non_profit_df[non_profit_df['TAGLINE'].isin(non_profit)]\n",
    "companies.loc[non_profit_df.index, 'TYPE'] = 'non-profit'"
   ]
  },
  {
   "cell_type": "markdown",
   "metadata": {},
   "source": [
    "# Seperate startups and mature companies"
   ]
  },
  {
   "cell_type": "code",
   "execution_count": 276,
   "metadata": {},
   "outputs": [],
   "source": [
    "# Companies without label\n",
    "other_companies = companies[companies['TYPE'].isna()]\n",
    "\n",
    "# Separate remaining companies based on LAUNCH DATE\n",
    "# Select startups (companies launched in 1990 or later)\n",
    "startups = other_companies[other_companies['LAUNCH DATE'] >= 1990]\n",
    "companies.loc[startups.index, 'TYPE'] = 'startup'\n",
    "\n",
    "# Select mature companies (companies launched before 1990)\n",
    "mature = other_companies[other_companies['LAUNCH DATE'] < 1990]\n",
    "companies.loc[mature.index, 'TYPE'] = 'mature company'"
   ]
  },
  {
   "cell_type": "code",
   "execution_count": 279,
   "metadata": {},
   "outputs": [
    {
     "data": {
      "text/plain": [
       "True"
      ]
     },
     "execution_count": 279,
     "metadata": {},
     "output_type": "execute_result"
    }
   ],
   "source": [
    "# Check if every company has a tag\n",
    "companies.isna().sum()['TYPE'] == 0"
   ]
  },
  {
   "cell_type": "markdown",
   "metadata": {},
   "source": [
    "# Number of entities per type"
   ]
  },
  {
   "cell_type": "code",
   "execution_count": 323,
   "metadata": {},
   "outputs": [],
   "source": [
    "# Create dataframe with the number of entities per type\n",
    "entity_count = pd.DataFrame(companies['TYPE'].value_counts())\n",
    "entity_count.columns = ['Count']"
   ]
  },
  {
   "cell_type": "markdown",
   "metadata": {},
   "source": [
    "# PART 2: SCRAPING"
   ]
  },
  {
   "cell_type": "code",
   "execution_count": 1,
   "metadata": {},
   "outputs": [],
   "source": [
    "# Import libraries\n",
    "from bs4 import BeautifulSoup\n",
    "from selenium import webdriver\n",
    "from selenium.webdriver.common.keys import Keys\n",
    "from selenium.webdriver.chrome.options import Options\n",
    "import requests\n",
    "import urllib\n",
    "import lxml\n",
    "import time"
   ]
  },
  {
   "cell_type": "code",
   "execution_count": 2,
   "metadata": {},
   "outputs": [],
   "source": [
    "# Store url and path to chromedriver in a variable\n",
    "path = '../../ironhack/chromedriver'\n",
    "url = 'https://www.ycombinator.com/companies/'\n",
    "\n",
    "# Set options\n",
    "options = Options()\n",
    "options.add_argument('permissions.default.image')\n",
    "options.add_argument('dom.ipc.plugins.enabled.libflashplayer.so')"
   ]
  },
  {
   "cell_type": "code",
   "execution_count": 3,
   "metadata": {},
   "outputs": [],
   "source": [
    "def scroll(driver, timeout):\n",
    "    scroll_pause_time = timeout\n",
    "\n",
    "    # Get scroll height\n",
    "    last_height = driver.execute_script(\"return document.body.scrollHeight\")\n",
    "\n",
    "    while True:\n",
    "        # Scroll down to bottom\n",
    "        driver.execute_script(\"window.scrollTo(0, document.body.scrollHeight);\")\n",
    "\n",
    "        # Wait to load page\n",
    "        time.sleep(scroll_pause_time)\n",
    "\n",
    "        # Calculate new scroll height and compare with last scroll height\n",
    "        new_height = driver.execute_script(\"return document.body.scrollHeight\")\n",
    "        if new_height == last_height:\n",
    "            # If heights are the same it will exit the function\n",
    "            break\n",
    "        last_height = new_height"
   ]
  },
  {
   "cell_type": "code",
   "execution_count": 4,
   "metadata": {},
   "outputs": [],
   "source": [
    "def extract_info(url):\n",
    "    # Setup the driver\n",
    "    driver = webdriver.Chrome(options=options ,executable_path=path)\n",
    "    # Let driver wait before throwing an exception\n",
    "    driver.implicitly_wait(30)\n",
    "    # Open the page\n",
    "    driver.get(url)\n",
    "    # Scroll and timeout\n",
    "    scroll(driver, 5)\n",
    "    # Create the soup\n",
    "    soup = BeautifulSoup(driver.page_source, 'lxml')\n",
    "    # Close the driver\n",
    "    driver.close()\n",
    "\n",
    "    # Empty lists to store the info\n",
    "    comp_names = []\n",
    "    comp_places = []\n",
    "    comp_descriptions = []\n",
    "\n",
    "    # Looping through all the elements in the page source\n",
    "    for name in soup.select('span.SharedDirectory-module__coName___gbFfW'):\n",
    "        comp_names.append(name.get_text())\n",
    "    \n",
    "    for place in soup.select(' div.right > div:nth-child(1) > span:nth-child(2)'):\n",
    "        comp_places.append(place.get_text())\n",
    "        \n",
    "    for desc in soup.select(' div.right > div:nth-child(2)'):\n",
    "        comp_descriptions.append(desc.get_text())\n",
    "\n",
    "\n",
    "    return comp_names, comp_places, comp_descriptions\n",
    "\n",
    "# Store the extracted info in variables\n",
    "names, places, descriptions = extract_info(url)"
   ]
  },
  {
   "cell_type": "code",
   "execution_count": 7,
   "metadata": {},
   "outputs": [],
   "source": [
    "# Empty lists\n",
    "city = []\n",
    "state = []\n",
    "country = []\n",
    "\n",
    "# Separate the city, state and country and put them in different lists\n",
    "for place in places:\n",
    "    splitted = place.split(', ')\n",
    "    if len(splitted) == 4:\n",
    "        city.append(splitted[1])\n",
    "        state.append(splitted[2])\n",
    "        country.append(splitted[3])\n",
    "  \n",
    "    elif len(splitted) == 3:\n",
    "        city.append(splitted[0])\n",
    "        state.append(splitted[1])\n",
    "        country.append(splitted[2])\n",
    "        \n",
    "    elif len(splitted) == 2:\n",
    "        city.append(splitted[0])\n",
    "        state.append(np.nan)\n",
    "        country.append(splitted[1])\n",
    "        \n",
    "    elif len(splitted) == 1:\n",
    "        city.append(np.nan)\n",
    "        state.append(np.nan)\n",
    "        country.append(splitted)\n",
    "    else:\n",
    "        city.append(np.nan)\n",
    "        state.append(np.nan)\n",
    "        country.append(np.nan)\n",
    "    "
   ]
  },
  {
   "cell_type": "code",
   "execution_count": 8,
   "metadata": {},
   "outputs": [],
   "source": [
    "# Create a dataframe with all the variables\n",
    "startup_directory =  pd.DataFrame({'Company': names,\n",
    "                                   'City': city,\n",
    "                                   'State': state,\n",
    "                                   'Country': country,\n",
    "                                   'Description': descriptions\n",
    "})"
   ]
  },
  {
   "cell_type": "markdown",
   "metadata": {},
   "source": [
    "# Write dataframes in excel"
   ]
  },
  {
   "cell_type": "code",
   "execution_count": 291,
   "metadata": {},
   "outputs": [],
   "source": [
    "# Import library\n",
    "import xlsxwriter"
   ]
  },
  {
   "cell_type": "code",
   "execution_count": 308,
   "metadata": {},
   "outputs": [],
   "source": [
    "# Path to file \n",
    "assignment_file = '/Users/nick/documents/Sollicitaties/dealroom_assignment/Assignment_adjusted.xlsx'"
   ]
  },
  {
   "cell_type": "code",
   "execution_count": 325,
   "metadata": {},
   "outputs": [],
   "source": [
    "# Write in the excel file and save it\n",
    "writer = pd.ExcelWriter(assignment_file, engine='xlsxwriter')\n",
    "\n",
    "companies.to_excel(writer, sheet_name = 'Data')\n",
    "entity_count.to_excel(writer, sheet_name = 'Count')\n",
    "startup_directory.to_excel(writer, sheet_name = 'Scraping results')\n",
    "\n",
    "writer.save()"
   ]
  }
 ],
 "metadata": {
  "kernelspec": {
   "display_name": "Python 3",
   "language": "python",
   "name": "python3"
  },
  "language_info": {
   "codemirror_mode": {
    "name": "ipython",
    "version": 3
   },
   "file_extension": ".py",
   "mimetype": "text/x-python",
   "name": "python",
   "nbconvert_exporter": "python",
   "pygments_lexer": "ipython3",
   "version": "3.8.5"
  }
 },
 "nbformat": 4,
 "nbformat_minor": 4
}
